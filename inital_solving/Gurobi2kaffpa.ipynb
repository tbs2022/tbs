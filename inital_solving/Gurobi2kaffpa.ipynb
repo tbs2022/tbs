{
 "cells": [
  {
   "cell_type": "markdown",
   "metadata": {},
   "source": [
    "# Gurobi result to Kaffpa partition file"
   ]
  },
  {
   "cell_type": "code",
   "execution_count": 45,
   "metadata": {
    "tags": []
   },
   "outputs": [],
   "source": [
    "import numpy as np\n",
    "fn=\"MLP/as_2.5k_1.1_182021-07-21_21.sol\"\n",
    "number_nodes = 98\n",
    "\n",
    "\n",
    "# method = \"MLP\"\n",
    "f = open(fn,\"r\")\n",
    "\n",
    "\n",
    "lines = [i.rstrip() for i in f.readlines()]\n",
    "lines.pop(0) == \"# Solution for model Graph Partition\"\n",
    "obj = np.round(float(lines[0].split()[4]))\n",
    "\n",
    "# assert(obj==206)\n",
    "lines.pop(0)\n",
    "lines = lines[:-1] # remove last line \n",
    "\n",
    "\n",
    "partition = {}\n",
    "for i in lines:\n",
    "    isin = i.split()[1]\n",
    "    partitionstr = i.split()[0]\n",
    "    curnodeid = int(partitionstr.split('[')[1][:-1]) % number_nodes\n",
    "#     print(curnodeid)\n",
    "    curparid = int(int(partitionstr.split('[')[1][:-1]) / number_nodes)\n",
    "#     print(curnodeid, float(isin), curparid)\n",
    "    if float(isin) > 0.5:\n",
    "#         print(isin)\n",
    "        assert(int(curnodeid) not in partition)\n",
    "        partition[int(curnodeid)] = curparid"
   ]
  },
  {
   "cell_type": "code",
   "execution_count": 46,
   "metadata": {},
   "outputs": [],
   "source": [
    "listtowrite = [str(i[1])+'\\n' for i in sorted(partition.items())]"
   ]
  },
  {
   "cell_type": "code",
   "execution_count": 47,
   "metadata": {},
   "outputs": [],
   "source": [
    "from datetime import date\n",
    "td = str(date.today())\n",
    "g = open(\"InitialPartition/k=12-\" + td + fn.split('/')[1],\"w\")\n",
    "g.writelines(['#' + str(int(obj)) + '\\n'])\n",
    "g.writelines(listtowrite)\n",
    "g.close()"
   ]
  },
  {
   "cell_type": "code",
   "execution_count": 38,
   "metadata": {
    "tags": []
   },
   "outputs": [
    {
     "data": {
      "text/plain": [
       "['6\\n',\n",
       " '10\\n',\n",
       " '2\\n',\n",
       " '0\\n',\n",
       " '7\\n',\n",
       " '6\\n',\n",
       " '10\\n',\n",
       " '9\\n',\n",
       " '0\\n',\n",
       " '3\\n',\n",
       " '0\\n',\n",
       " '3\\n',\n",
       " '7\\n',\n",
       " '3\\n',\n",
       " '8\\n',\n",
       " '8\\n',\n",
       " '0\\n',\n",
       " '11\\n',\n",
       " '9\\n',\n",
       " '10\\n',\n",
       " '1\\n',\n",
       " '2\\n',\n",
       " '10\\n',\n",
       " '5\\n',\n",
       " '9\\n',\n",
       " '3\\n',\n",
       " '8\\n',\n",
       " '7\\n',\n",
       " '4\\n',\n",
       " '5\\n',\n",
       " '9\\n',\n",
       " '5\\n',\n",
       " '7\\n',\n",
       " '11\\n',\n",
       " '5\\n',\n",
       " '10\\n',\n",
       " '11\\n',\n",
       " '11\\n',\n",
       " '10\\n',\n",
       " '1\\n',\n",
       " '4\\n',\n",
       " '6\\n',\n",
       " '10\\n',\n",
       " '1\\n',\n",
       " '10\\n',\n",
       " '4\\n',\n",
       " '4\\n',\n",
       " '10\\n',\n",
       " '1\\n',\n",
       " '2\\n',\n",
       " '10\\n',\n",
       " '2\\n',\n",
       " '6\\n',\n",
       " '8\\n',\n",
       " '10\\n',\n",
       " '10\\n',\n",
       " '10\\n',\n",
       " '10\\n',\n",
       " '10\\n',\n",
       " '10\\n',\n",
       " '10\\n',\n",
       " '10\\n',\n",
       " '10\\n',\n",
       " '10\\n',\n",
       " '10\\n',\n",
       " '10\\n']"
      ]
     },
     "execution_count": 38,
     "metadata": {},
     "output_type": "execute_result"
    }
   ],
   "source": [
    "listtowrite"
   ]
  },
  {
   "cell_type": "code",
   "execution_count": null,
   "metadata": {},
   "outputs": [],
   "source": []
  }
 ],
 "metadata": {
  "kernelspec": {
   "display_name": "Python 3",
   "language": "python",
   "name": "python3"
  },
  "language_info": {
   "codemirror_mode": {
    "name": "ipython",
    "version": 3
   },
   "file_extension": ".py",
   "mimetype": "text/x-python",
   "name": "python",
   "nbconvert_exporter": "python",
   "pygments_lexer": "ipython3",
   "version": "3.7.9"
  }
 },
 "nbformat": 4,
 "nbformat_minor": 4
}
