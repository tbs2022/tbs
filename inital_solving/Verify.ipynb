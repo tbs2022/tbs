{
 "cells": [
  {
   "cell_type": "code",
   "execution_count": 8,
   "id": "c6428d72-7fea-47fc-b1d3-5acbcf3c4b4b",
   "metadata": {
    "tags": []
   },
   "outputs": [],
   "source": [
    "import numpy as np\n",
    "import networkx as nx\n",
    "# import nxmetis as nxm\n",
    "# from matplotlib import pyplot as plt\n",
    "import scipy\n",
    "# import graphviz as gv\n",
    "import igraph as ig\n",
    "# import gurobipy as gp\n",
    "# from gurobipy import GRB\n",
    "import pickle\n",
    "from collections import Counter \n",
    "\n",
    "\n",
    "np.random.seed(5)\n",
    "\n",
    "pngdir = 'pngs/'\n",
    "txtdir = 'txts/'\n",
    "pickledir = \"middleResults/\"\n",
    "logdir = \"gurobiLog/\"\n",
    "uncoarsen = \"afteruncoarsen/\"\n",
    "outputdir = \"finalpartition/\"\n",
    "\n",
    "# largest_cc = pickle.load(open(pickledir+\"cc_cnajk\",\"rb\"))\n",
    "experiment_graphs = pickle.load(open(pickledir+\"experiment_graphs\",\"rb\"))\n",
    "# node_map_id2name = pickle.load( open(pickledir+\"node_map_id2name-2021-06-02\",\"rb\") )\n",
    "\n",
    "# ig_cnakj = experiment_graphs['cnakj']\n",
    "gnp_5k = experiment_graphs['5k']['gnp']"
   ]
  },
  {
   "cell_type": "code",
   "execution_count": 31,
   "id": "02fa377b-2937-48cc-a3c3-81c7929fe9c5",
   "metadata": {},
   "outputs": [
    {
     "name": "stdout",
     "output_type": "stream",
     "text": [
      "100 4602\n",
      "100 4602\n",
      "144 4404\n",
      "144 4404\n",
      "732 2135\n",
      "732 2135\n",
      "201 15093\n",
      "201 15093\n",
      "291 14774\n",
      "291 14774\n",
      "550 9083\n",
      "550 9083\n",
      "1008 129293\n",
      "1008 129293\n",
      "1671 128100\n",
      "1671 128100\n",
      "12028 97245\n",
      "12028 97245\n"
     ]
    }
   ],
   "source": [
    "dstdir = \"/home/data/data12/zhy/codes/topos/experiments/\"\n",
    "fns = ['gnp_5k','pl_5k','as_5k','gnp_1w','pl_1w','as_1w','gnp_5w','pl_5w','as_5w']\n",
    "# dstdir = pickledir\n",
    "for fname in fns:\n",
    "    fn = fname + '.txt'\n",
    "    coars = open(dstdir+fn,\"r\")\n",
    "    alllines = [i.rstrip() for i in coars.readlines()]\n",
    "    numN = int(alllines[0].split()[0])\n",
    "    numM = int(alllines[0].split()[1])\n",
    "    cut = int(alllines[0].split()[2])\n",
    "    print(numN,numM)\n",
    "    G = nx.Graph()\n",
    "    for i in range(1,len(alllines)):\n",
    "        G.add_node(i, NodeWeight=int(alllines[i].split()[0]))\n",
    "\n",
    "    for i in range(1,len(alllines)):\n",
    "        thisline = alllines[i].split()\n",
    "        for j in range(1,len(thisline),2):\n",
    "    #         print(i,thisline[j],int(thisline[j+1]))\n",
    "            G.add_edge(i,int(thisline[j]),EdgeWeight=int(thisline[j+1]))\n",
    "\n",
    "    assert(list(G.nodes) == list(range(1,numN+1)))\n",
    "    print(len(G.nodes),len(G.edges))\n",
    "    NWeight = [G.nodes[i]['NodeWeight'] for i in G.nodes]\n",
    "    numOriginNodes=5000\n",
    "#     assert(sum(NWeight) == numOriginNodes)\n",
    "    EWeight = [G.edges[i]['EdgeWeight'] for i in G.edges]\n",
    "    assert(sum(EWeight) == cut)\n",
    "    nowg = G\n",
    "    node_list = list(nowg.nodes)\n",
    "    N = len(node_list)\n",
    "    # N = node_list\n",
    "    # E = list(nowg.edges)\n",
    "    # L = nx.laplacian_matrix(nowg)\n",
    "    W = nx.adj_matrix(nowg,weight='EdgeWeight')\n",
    "\n",
    "    assert(np.sum(W.data)==cut*2)\n",
    "    Wary = W.toarray() \n"
   ]
  },
  {
   "cell_type": "markdown",
   "id": "609737db-5144-4a05-befa-9e66c9470b43",
   "metadata": {},
   "source": [
    "# This is for gurobi output"
   ]
  },
  {
   "cell_type": "markdown",
   "id": "39094678-05fb-43de-9dc9-4d7e693e9bb5",
   "metadata": {},
   "source": [
    "## always change this line when running"
   ]
  },
  {
   "cell_type": "code",
   "execution_count": 11,
   "id": "c3f5140c-31a9-4ac0-8e89-2db71f5dff84",
   "metadata": {
    "tags": []
   },
   "outputs": [
    {
     "ename": "NameError",
     "evalue": "name 'pickle' is not defined",
     "output_type": "error",
     "traceback": [
      "\u001b[0;31m---------------------------------------------------------------------------\u001b[0m",
      "\u001b[0;31mNameError\u001b[0m                                 Traceback (most recent call last)",
      "\u001b[0;32m<ipython-input-11-bdf43f624f9d>\u001b[0m in \u001b[0;36m<module>\u001b[0;34m\u001b[0m\n\u001b[1;32m      2\u001b[0m \u001b[0mNUM_MACHINE\u001b[0m \u001b[0;34m=\u001b[0m \u001b[0;36m6\u001b[0m\u001b[0;34m\u001b[0m\u001b[0;34m\u001b[0m\u001b[0m\n\u001b[1;32m      3\u001b[0m \u001b[0mNUM_NODES\u001b[0m \u001b[0;34m=\u001b[0m \u001b[0;36m5000\u001b[0m\u001b[0;34m\u001b[0m\u001b[0;34m\u001b[0m\u001b[0m\n\u001b[0;32m----> 4\u001b[0;31m \u001b[0mexperiment_graphs\u001b[0m \u001b[0;34m=\u001b[0m \u001b[0mpickle\u001b[0m\u001b[0;34m.\u001b[0m\u001b[0mload\u001b[0m\u001b[0;34m(\u001b[0m\u001b[0mopen\u001b[0m\u001b[0;34m(\u001b[0m\u001b[0mpickledir\u001b[0m\u001b[0;34m+\u001b[0m\u001b[0;34m\"experiment_graphs\"\u001b[0m\u001b[0;34m,\u001b[0m\u001b[0;34m\"rb\"\u001b[0m\u001b[0;34m)\u001b[0m\u001b[0;34m)\u001b[0m\u001b[0;34m\u001b[0m\u001b[0;34m\u001b[0m\u001b[0m\n\u001b[0m",
      "\u001b[0;31mNameError\u001b[0m: name 'pickle' is not defined"
     ]
    }
   ],
   "source": [
    "this_solution = \"MLP/gnp-5k.txt2021-07-17_74.sol\"\n",
    "NUM_MACHINE = 6\n",
    "NUM_NODES = 5000\n",
    "experiment_graphs = pickle.load(open(pickledir+\"experiment_graphs\",\"rb\"))"
   ]
  },
  {
   "cell_type": "code",
   "execution_count": 35,
   "id": "cde23ebb-d095-46e6-9dde-521bc135ea16",
   "metadata": {
    "tags": []
   },
   "outputs": [
    {
     "name": "stdout",
     "output_type": "stream",
     "text": [
      "Counter({5: 1000, 1: 812, 0: 806, 3: 801, 2: 799, 4: 782})\n"
     ]
    },
    {
     "data": {
      "text/plain": [
       "Matrix([[0, 1107, 1035, 1006, 959, 1289], [1107, 0, 1071, 1044, 1020, 1322], [1035, 1071, 0, 973, 998, 1240], [1006, 1044, 973, 0, 1064, 1272], [959, 1020, 998, 1064, 0, 1266], [1289, 1322, 1240, 1272, 1266, 0]])"
      ]
     },
     "execution_count": 35,
     "metadata": {},
     "output_type": "execute_result"
    }
   ],
   "source": [
    "f = open(this_solution, \"r\")\n",
    "\n",
    "partition_res = {}\n",
    "\n",
    "lines = f.readlines()[2:-1]\n",
    "lines_short = [i.split(' ')[1].rstrip() for i in lines]\n",
    "id_ary = np.array(lines_short).reshape((NUM_MACHINE,NUM_NODES))\n",
    "for i in range(NUM_MACHINE):\n",
    "    for j in range(NUM_NODES):\n",
    "        if float(id_ary[i,j]) > 0.5:\n",
    "            partition_res[j] = i\n",
    "# print(partition_res)\n",
    "# print(ig_cnakj.vs.get_attribute_values('_nx_name'))\n",
    "# assert(ig_cnakj.vs.get_attribute_values('_nx_name') == node_list)\n",
    "assert(len(gnp_5k.vs) == len(partition_res))\n",
    "# labels = [partition_res[i] for i in ig_cnakj.vs.get_attribute_values('_nx_name')]\n",
    "\n",
    "labels = [partition_res[i] for i in partition_res]\n",
    "print(Counter(labels))\n",
    "\n",
    "vc = ig.VertexClustering(gnp_5k,membership=labels)\n",
    "contracted = vc.cluster_graph(combine_edges=sum)\n",
    "contracted.get_adjacency(attribute='weight')"
   ]
  },
  {
   "cell_type": "code",
   "execution_count": 39,
   "id": "108efc7f-661e-41e2-a2e8-e434797a175a",
   "metadata": {
    "tags": []
   },
   "outputs": [
    {
     "data": {
      "text/plain": [
       "33332"
      ]
     },
     "execution_count": 39,
     "metadata": {},
     "output_type": "execute_result"
    }
   ],
   "source": [
    "np.array(contracted.get_adjacency(attribute='weight').data).sum()"
   ]
  },
  {
   "cell_type": "markdown",
   "id": "7373b8b6-5e35-4bc3-affd-2bc48c2b2285",
   "metadata": {},
   "source": [
    "## write results, notice the output filename"
   ]
  },
  {
   "cell_type": "code",
   "execution_count": 32,
   "id": "25bb05c0-e023-4a93-ba54-b3ab451ef911",
   "metadata": {
    "tags": []
   },
   "outputs": [],
   "source": [
    "from datetime import date\n",
    "td = str(date.today())\n",
    "\n",
    "f = open(outputdir+td+\"-ip-obj=\",\"w\")\n",
    "f.writelines(['\\''  +  i + '\\',' + str(partition_res[i]) + '\\n' for i in partition_res])"
   ]
  },
  {
   "cell_type": "markdown",
   "id": "afa93636-7083-4ee2-bdf3-a14bd01c8bac",
   "metadata": {},
   "source": [
    "# This is for kaffpa final output"
   ]
  },
  {
   "cell_type": "markdown",
   "id": "62618bae-f742-423f-a66b-86c7057b7953",
   "metadata": {},
   "source": [
    "## always change this line when running"
   ]
  },
  {
   "cell_type": "code",
   "execution_count": 66,
   "id": "f8e973ce-8056-4339-ad1a-69da12649d0f",
   "metadata": {},
   "outputs": [],
   "source": [
    "import numpy as np\n",
    "import networkx as nx\n",
    "# import nxmetis as nxm\n",
    "# from matplotlib import pyplot as plt\n",
    "import scipy\n",
    "# import graphviz as gv\n",
    "import igraph as ig\n",
    "# import gurobipy as gp\n",
    "# from gurobipy import GRB\n",
    "import pickle\n",
    "from collections import Counter \n",
    "np.random.seed(5)\n",
    "\n",
    "pngdir = 'pngs/'\n",
    "txtdir = 'txts/'\n",
    "pickledir = \"middleResults/\"\n",
    "logdir = \"gurobiLog/\"\n",
    "uncoarsen = \"afteruncoarsen/\"\n",
    "outputdir = \"finalpartition/\"\n",
    "experiment_graphs = pickle.load(open(pickledir+\"experiment_graphs\",\"rb\"))\n",
    "exp_2500 = pickle.load(open(pickledir + \"exp_2500\",\"rb\"))\n",
    "\n",
    "metisdir = \"/home/data/data12/zhy/NetworkPartition/middleResults/formetis/\"\n",
    "kahipdir = \"/home/data/data12/zhy/NetworkPartition/middleResults/kahip/\"\n",
    "fns = ['gnp_5k','pl_5k','as_5k','gnp_1w','pl_1w','as_1w','gnp_5w','pl_5w','as_5w']"
   ]
  },
  {
   "cell_type": "code",
   "execution_count": 97,
   "id": "b6883fa4-ed90-42da-8e4d-2a999854f05f",
   "metadata": {},
   "outputs": [
    {
     "data": {
      "text/plain": [
       "{24: <igraph.Graph at 0x7feeb1e1fd50>,\n",
       " 32: <igraph.Graph at 0x7feeaf02e050>,\n",
       " 56: <igraph.Graph at 0x7feeaf02e150>}"
      ]
     },
     "execution_count": 97,
     "metadata": {},
     "output_type": "execute_result"
    }
   ],
   "source": [
    "fatt = pickle.load(open(pickledir+\"fatt\",\"rb\"))\n",
    "fatt"
   ]
  },
  {
   "cell_type": "code",
   "execution_count": 87,
   "id": "e57a8bd1-330b-443b-bf12-c85069de9e25",
   "metadata": {},
   "outputs": [
    {
     "data": {
      "text/plain": [
       "10000"
      ]
     },
     "execution_count": 87,
     "metadata": {},
     "output_type": "execute_result"
    }
   ],
   "source": [
    "len(experiment_graphs['1w']['as'].vs)"
   ]
  },
  {
   "cell_type": "code",
   "execution_count": 51,
   "id": "e5a706c6-cd3e-4eef-9480-030236445de5",
   "metadata": {
    "jupyter": {
     "source_hidden": true
    },
    "tags": []
   },
   "outputs": [
    {
     "name": "stdout",
     "output_type": "stream",
     "text": [
      "/home/data/data12/zhy/NetworkPartition/middleResults/kahip/fattree-k=24.txt-part\n",
      "285\n",
      "/home/data/data12/zhy/NetworkPartition/middleResults/kahip/fattree-k=32.txt-part\n",
      "216\n",
      "/home/data/data12/zhy/NetworkPartition/middleResults/kahip/fattree-k=56.txt-part\n",
      "512\n"
     ]
    }
   ],
   "source": [
    "# for fn in fns:\n",
    "for fn in [24,32,56]:\n",
    "    tail = 0\n",
    "#     fn = fn.replace(\"_\",\"-\")\n",
    "#     if fn.endswith('5k'):\n",
    "#         tail = 6\n",
    "#     if fn.endswith('1w'):\n",
    "#         tail = 12\n",
    "#     if fn.endswith('5w'):\n",
    "#         tail = 60\n",
    "    if fn == 24:\n",
    "        tail = 6\n",
    "    if fn == 32:\n",
    "        tail = 12\n",
    "    if fn == 56:\n",
    "        tail = 60\n",
    "    assert(tail != 0)\n",
    "#     this_solution = kahipdir + fn + \".txt-part\"\n",
    "    this_solution = kahipdir + \"fattree-k=\" + str(fn) + \".txt-part\"\n",
    "    print(this_solution)\n",
    "\n",
    "    \n",
    "    f = open(this_solution,\"r\")\n",
    "    lines = [i.rstrip() for i in f.readlines()]\n",
    "    \n",
    "    res = {}\n",
    "    for i,j in enumerate(lines):\n",
    "    #     print(i,j)\n",
    "#         res[node_map_id2name[i]] = int(j)\n",
    "        res[i] = int(j)\n",
    "    \n",
    "#     this_graph = experiment_graphs[fn[-2:]][fn.split('-')[0]]\n",
    "    this_graph = fatt[fn]\n",
    "\n",
    "    for i in this_graph.es:\n",
    "        i['weight'] = 1\n",
    "    assert(len(this_graph.vs) == len(res))\n",
    "#     labels = [res[i] for i in this_graph.vs.get_attribute_values('_nx_name')]\n",
    "    labels = [res[i] for i in res]\n",
    "\n",
    "#     print(Counter(labels))\n",
    "\n",
    "    vc = ig.VertexClustering(this_graph,membership=labels)\n",
    "    contracted = vc.cluster_graph(combine_edges={'weight' :sum})\n",
    "    W = contracted.get_adjacency(attribute='weight').data\n",
    "#     print(W)\n",
    "    print(np.array(W).max())\n"
   ]
  },
  {
   "cell_type": "code",
   "execution_count": 67,
   "id": "f5a027b7-094e-41fb-ae67-f713dc1fd2ba",
   "metadata": {},
   "outputs": [
    {
     "data": {
      "text/plain": [
       "{'gnp': <igraph.Graph at 0x7feeb4471550>,\n",
       " 'pl': <igraph.Graph at 0x7feeb4471450>,\n",
       " 'as': <igraph.Graph at 0x7feeb4471350>,\n",
       " 'ft': <igraph.Graph at 0x7feeb1e1f650>}"
      ]
     },
     "execution_count": 67,
     "metadata": {},
     "output_type": "execute_result"
    }
   ],
   "source": [
    "exp_2500"
   ]
  },
  {
   "cell_type": "code",
   "execution_count": 108,
   "id": "2ab56361-09a5-48b7-92d4-da652aafa9c2",
   "metadata": {
    "tags": []
   },
   "outputs": [
    {
     "name": "stdout",
     "output_type": "stream",
     "text": [
      "pl 149 [[  0 124  87 125 122  89 110 109  52  93 118  68]\n",
      " [124   0  96 104 100  92  99 105  53  75 101  56]\n",
      " [ 87  96   0  69  83  65  87  86  34  73  87  46]\n",
      " [125 104  69   0 136 108 112 119  65  93 118  63]\n",
      " [122 100  83 136   0  86 131 125  60  90 117  59]\n",
      " [ 89  92  65 108  86   0  98  82  26  69  89  43]\n",
      " [110  99  87 112 131  98   0 149  60 116 132  67]\n",
      " [109 105  86 119 125  82 149   0  83  97 119  70]\n",
      " [ 52  53  34  65  60  26  60  83   0  51  54  29]\n",
      " [ 93  75  73  93  90  69 116  97  51   0 120  67]\n",
      " [118 101  87 118 117  89 132 119  54 120   0  78]\n",
      " [ 68  56  46  63  59  43  67  70  29  67  78   0]]\n",
      "as 59 [[ 0 59 32 52 40 25 33 23 39 21 21 25]\n",
      " [59  0 40 53 35 35 30 27 35 20 28 35]\n",
      " [32 40  0 31 17 30  9 17  7 14 14 11]\n",
      " [52 53 31  0 40 31 26 32 30 23 25 26]\n",
      " [40 35 17 40  0 26 29 11 17 20 12  6]\n",
      " [25 35 30 31 26  0  8 17 12 16 11 15]\n",
      " [33 30  9 26 29  8  0 12 18 10 12 12]\n",
      " [23 27 17 32 11 17 12  0  8  4  8  6]\n",
      " [39 35  7 30 17 12 18  8  0  8 11  6]\n",
      " [21 20 14 23 20 16 10  4  8  0 18  5]\n",
      " [21 28 14 25 12 11 12  8 11 18  0 12]\n",
      " [25 35 11 26  6 15 12  6  6  5 12  0]]\n",
      "gnp 112 [[  0 109 100  80  87  70  93  75  79  71  72  98]\n",
      " [109   0  80  97 101  93  90  78  76  75  87 102]\n",
      " [100  80   0  64  95  93  75  80  87  74  88  73]\n",
      " [ 80  97  64   0 112  89  76  87 104  70  83  86]\n",
      " [ 87 101  95 112   0  88  95  96 104  59  92  96]\n",
      " [ 70  93  93  89  88   0 100  93  87  64  74  71]\n",
      " [ 93  90  75  76  95 100   0  83  85  77  84  89]\n",
      " [ 75  78  80  87  96  93  83   0  79  75  82 100]\n",
      " [ 79  76  87 104 104  87  85  79   0  69  82  85]\n",
      " [ 71  75  74  70  59  64  77  75  69   0  57  80]\n",
      " [ 72  87  88  83  92  74  84  82  82  57   0  95]\n",
      " [ 98 102  73  86  96  71  89 100  85  80  95   0]]\n",
      "ft 49 [[ 0 32 18 33 32 33 32 32 18 47 33 18]\n",
      " [32  0 18 33 32 33 32 32 18 47 33 18]\n",
      " [18 18  0 18 18 18 18 18  0 36 18  0]\n",
      " [33 33 18  0 33 34 33 33 18 49 34 18]\n",
      " [32 32 18 33  0 33 32 32 18 47 33 18]\n",
      " [33 33 18 34 33  0 33 33 18 49 34 18]\n",
      " [32 32 18 33 32 33  0 32 18 47 33 18]\n",
      " [32 32 18 33 32 33 32  0 18 47 33 18]\n",
      " [18 18  0 18 18 18 18 18  0 36 18  0]\n",
      " [47 47 36 49 47 49 47 47 36  0 49 36]\n",
      " [33 33 18 34 33 34 33 33 18 49  0 18]\n",
      " [18 18  0 18 18 18 18 18  0 36 18  0]]\n"
     ]
    }
   ],
   "source": [
    "for name in ['pl','as','gnp','ft']:\n",
    "# for name in ['fattree']:\n",
    "    this_solution = kahipdir + name + \"-2.5k.txt-part\"\n",
    "#     this_solution = metisdir + name+\"-k=24.txt.part.12\"\n",
    "\n",
    "\n",
    "    f = open(this_solution,\"r\")\n",
    "    lines = [i.rstrip() for i in f.readlines()]\n",
    "\n",
    "    res = {}\n",
    "    for i,j in enumerate(lines):\n",
    "    #     print(i,j)\n",
    "    #         res[node_map_id2name[i]] = int(j)\n",
    "        res[i] = int(j)\n",
    "\n",
    "    #     this_graph = experiment_graphs[fn[-2:]][fn.split('-')[0]]\n",
    "#     this_graph = experiment_graphs['5k'][name]\n",
    "#     this_graph = fatt[24]\n",
    "    this_graph = exp_2500[name]\n",
    "    for i in this_graph.es:\n",
    "        i['weight'] = 1\n",
    "    assert(len(this_graph.vs) == len(res))\n",
    "    #     labels = [res[i] for i in this_graph.vs.get_attribute_values('_nx_name')]\n",
    "    labels = [res[i] for i in res]\n",
    "\n",
    "    #     print(Counter(labels))\n",
    "\n",
    "    vc = ig.VertexClustering(this_graph,membership=labels)\n",
    "    contracted = vc.cluster_graph(combine_edges={'weight' :sum})\n",
    "    W = contracted.get_adjacency(attribute='weight').data\n",
    "    W = np.array(W)\n",
    "    # W.sum()\n",
    "    print(name,W.max(),W)"
   ]
  },
  {
   "cell_type": "markdown",
   "id": "61c67213-863a-4e10-9f4d-ba2c9545b9ee",
   "metadata": {
    "tags": []
   },
   "source": [
    "\n",
    "## write results, notice the output filename"
   ]
  },
  {
   "cell_type": "code",
   "execution_count": 18,
   "id": "c4bf040d-2cfc-4821-93c2-f1be7c72e329",
   "metadata": {
    "tags": []
   },
   "outputs": [],
   "source": [
    "from datetime import date\n",
    "td = str(date.today())\n",
    "\n",
    "f = open(outputdir+td+\"-kaffpa-final-obj=\",\"w\")\n",
    "f.writelines(['\\''  +  i + '\\',' + str(res[i]) + '\\n' for i in res])"
   ]
  },
  {
   "cell_type": "code",
   "execution_count": null,
   "id": "697332c0-0945-458a-b347-9e078b489afa",
   "metadata": {},
   "outputs": [],
   "source": []
  }
 ],
 "metadata": {
  "kernelspec": {
   "display_name": "Python 3",
   "language": "python",
   "name": "python3"
  },
  "language_info": {
   "codemirror_mode": {
    "name": "ipython",
    "version": 3
   },
   "file_extension": ".py",
   "mimetype": "text/x-python",
   "name": "python",
   "nbconvert_exporter": "python",
   "pygments_lexer": "ipython3",
   "version": "3.7.9"
  }
 },
 "nbformat": 4,
 "nbformat_minor": 5
}
