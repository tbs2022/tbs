{
 "cells": [
  {
   "cell_type": "code",
   "execution_count": 1,
   "id": "06062414-1366-4981-b5c1-48d0d8565dd3",
   "metadata": {},
   "outputs": [],
   "source": [
    "# load china AS names\n",
    "import json\n",
    "fp = open(\"info/AS_info.json\")\n",
    "data = json.load(fp)\n",
    "fp.close()\n",
    "name_cn = [i for i in data if data[i]['zone'] == \"CHN\"]\n",
    "name_jak = [i for i in data if data[i]['zone'] == \"JAK\"]"
   ]
  },
  {
   "cell_type": "markdown",
   "id": "3dc0a047-2814-499b-8b9f-c154c5d230aa",
   "metadata": {},
   "source": [
    "# Read data"
   ]
  },
  {
   "cell_type": "code",
   "execution_count": 2,
   "id": "8ec7f7da-8bfc-4933-bc34-c882339f8248",
   "metadata": {
    "tags": []
   },
   "outputs": [
    {
     "ename": "NameError",
     "evalue": "name 'name_cn' is not defined",
     "output_type": "error",
     "traceback": [
      "\u001b[0;31m---------------------------------------------------------------------------\u001b[0m",
      "\u001b[0;31mNameError\u001b[0m                                 Traceback (most recent call last)",
      "\u001b[0;32m<ipython-input-2-3459f83bdbcb>\u001b[0m in \u001b[0;36m<module>\u001b[0;34m\u001b[0m\n\u001b[1;32m     40\u001b[0m \u001b[0;34m\u001b[0m\u001b[0m\n\u001b[1;32m     41\u001b[0m \u001b[0;31m# choosing CHINA ASes\u001b[0m\u001b[0;34m\u001b[0m\u001b[0;34m\u001b[0m\u001b[0;34m\u001b[0m\u001b[0m\n\u001b[0;32m---> 42\u001b[0;31m \u001b[0mcn\u001b[0m \u001b[0;34m=\u001b[0m \u001b[0mg\u001b[0m\u001b[0;34m.\u001b[0m\u001b[0msubgraph\u001b[0m\u001b[0;34m(\u001b[0m\u001b[0mname_cn\u001b[0m\u001b[0;34m)\u001b[0m\u001b[0;34m\u001b[0m\u001b[0;34m\u001b[0m\u001b[0m\n\u001b[0m\u001b[1;32m     43\u001b[0m \u001b[0mcnjak\u001b[0m \u001b[0;34m=\u001b[0m \u001b[0mg\u001b[0m\u001b[0;34m.\u001b[0m\u001b[0msubgraph\u001b[0m\u001b[0;34m(\u001b[0m\u001b[0mname_cn\u001b[0m\u001b[0;34m+\u001b[0m\u001b[0mname_jak\u001b[0m\u001b[0;34m)\u001b[0m\u001b[0;34m\u001b[0m\u001b[0;34m\u001b[0m\u001b[0m\n\u001b[1;32m     44\u001b[0m \u001b[0;31m# choosing CHINA and its neighbors\u001b[0m\u001b[0;34m\u001b[0m\u001b[0;34m\u001b[0m\u001b[0;34m\u001b[0m\u001b[0m\n",
      "\u001b[0;31mNameError\u001b[0m: name 'name_cn' is not defined"
     ]
    }
   ],
   "source": [
    "import numpy as np\n",
    "import networkx as nx\n",
    "# import nxmetis as nxm\n",
    "from matplotlib import pyplot as plt\n",
    "import scipy\n",
    "# import graphviz as gv\n",
    "import igraph as ig\n",
    "import gurobipy as gp\n",
    "from gurobipy import GRB\n",
    "\n",
    "np.random.seed(5)\n",
    "\n",
    "pngdir = 'pngs/'\n",
    "txtdir = 'txts/'\n",
    "\n",
    "g = nx.read_adjlist(txtdir+\"adj_without_loop.txt\")\n",
    "\n",
    "# a = dict(g.degree())\n",
    "\n",
    "# nums = [1500,2000,5000]\n",
    "\n",
    "# # choosing nodes with high degrees\n",
    "# rankg = {i: g.subgraph([k[0] for k in sorted(a.items(),key=lambda x:x[1],reverse=True)[:i]]) for i in nums}\n",
    "\n",
    "\n",
    "# # choosing nodes randomly with different probability\n",
    "\n",
    "# def normalized(a):\n",
    "#     return a / a.sum()\n",
    "\n",
    "# pp = {'sqrt': normalized(np.array([np.sqrt(i[1]) for i in a.items()])),\n",
    "#       'log' : normalized(np.array([np.log(i[1]) for i in a.items()])),\n",
    "#       'lin' : normalized(np.array([i[1] for i in a.items()])),\n",
    "#                         }\n",
    "\n",
    "# sqrtg = {i:g.subgraph(np.random.choice(np.array(list(g.nodes)),i,p=pp['sqrt'],replace=False)) for i in nums}\n",
    "# ling = {i:g.subgraph(np.random.choice(np.array(list(g.nodes)),i,p=pp['lin'],replace=False)) for i in nums}\n",
    "# logg = {i:g.subgraph(np.random.choice(np.array(list(g.nodes)),i,p=pp['log'],replace=False)) for i in nums}\n",
    "# randg = {i:g.subgraph(np.random.choice(np.array(list(g.nodes)),i,replace=False)) for i in nums}\n",
    "\n",
    "# choosing CHINA ASes\n",
    "cn = g.subgraph(name_cn)\n",
    "cnjak = g.subgraph(name_cn+name_jak)\n",
    "# choosing CHINA and its neighbors\n",
    "# nx.write_adjlist(cn,txtdir+'CHN.txt')\n",
    "\n",
    "# G = ig.Graph.from_networkx(cn)\n",
    "\n",
    "# sqrtig = {i:ig.Graph.from_networkx(sqrtg[i]) for i in [2000]}\n",
    "# linig = {i:ig.Graph.from_networkx(ling[i]) for i in [2000]}\n",
    "# logig = {i:ig.Graph.from_networkx(logg[i]) for i in [2000]}\n",
    "# randig = {i:ig.Graph.from_networkx(randg[i]) for i in [2000]}"
   ]
  },
  {
   "cell_type": "code",
   "execution_count": 3,
   "id": "ca525ef1-dade-4b7d-a023-f944ab8c3b07",
   "metadata": {
    "tags": []
   },
   "outputs": [
    {
     "name": "stdout",
     "output_type": "stream",
     "text": [
      "4420 4126\n"
     ]
    }
   ],
   "source": [
    "# a=list(g.degree())\n",
    "# a.sort(key=lambda x:x[1],reverse=True)\n",
    "# # len([i for i in a if i[1] > 1000])\n",
    "# a\n",
    "# cn.nodes\n",
    "# a.sort(key=lambda x:x[1],reverse=True)\n",
    "\n",
    "largest_cc = cnjak.subgraph(max(nx.connected_components(cnjak), key=len))\n",
    "print(len(cnjak.nodes),len(largest_cc.nodes))"
   ]
  },
  {
   "cell_type": "code",
   "execution_count": 99,
   "id": "9686eff1-77ad-4388-bf63-a4d81f9ec606",
   "metadata": {},
   "outputs": [
    {
     "data": {
      "text/plain": [
       "10746"
      ]
     },
     "execution_count": 99,
     "metadata": {},
     "output_type": "execute_result"
    }
   ],
   "source": [
    "len(cnjak.edges)"
   ]
  },
  {
   "cell_type": "code",
   "execution_count": 29,
   "id": "ee13f7b2-a261-4cb7-b54e-bb7d436cf0c4",
   "metadata": {},
   "outputs": [],
   "source": [
    "gnp_5w_0_0015 = nx.fast_gnp_random_graph(50000,0.0015,seed=5)\n",
    "\n",
    "sf_5w_7 = nx.barabasi_albert_graph(50000,8,seed=5)\n",
    "\n",
    "as_like = nx.random_internet_as_graph(10000,seed=5)\n",
    "\n",
    "tree_like_5w = nx.random_tree(50000)\n",
    "\n",
    "for i in tree_like_5w.edges:\n",
    "    tree_like_5w.edges[i]['weight'] = np.random.randint(1,11)\n",
    "\n",
    "tree_like_5w.edges\n",
    "\n",
    "G = as_like\n",
    "index = dict(zip(G, list(range(len(G)))))\n",
    "xadj = [0]\n",
    "adjncy = []\n",
    "for u in G:\n",
    "    adjncy.extend(index[v] for v in G[u])\n",
    "    xadj.append(len(adjncy))\n",
    "\n",
    "adjncy\n",
    "\n",
    "import metis\n",
    "\n",
    "metisg = metis.networkx_to_metis(as_like)\n",
    "metisg"
   ]
  },
  {
   "cell_type": "code",
   "execution_count": 72,
   "id": "7ab2645a-917a-470c-ba1c-659e232fecbf",
   "metadata": {
    "tags": []
   },
   "outputs": [],
   "source": [
    "#ig_gnp = ig.Graph.from_networkx(gnp_5w_0_0015)\n",
    "#ig_sf = ig.Graph.from_networkx(sf_5w_7)\n",
    "ig_as = ig.Graph.from_networkx(as_like)\n",
    "#ig_tree = ig.Graph.from_networkx(tree_like_5w)"
   ]
  },
  {
   "cell_type": "code",
   "execution_count": 101,
   "id": "8e7880c4-128c-46e2-ad8f-0c4a958bff2d",
   "metadata": {},
   "outputs": [],
   "source": [
    "ig_gnp_5k = ig.Graph.Erdos_Renyi(5000,m=20000)\n",
    "ig_gnp_1w = ig.Graph.Erdos_Renyi(10000,m=40000)\n",
    "ig_gnp_5w = ig.Graph.Erdos_Renyi(50000,m=200000)\n",
    "ig_powerl_5k = ig.Graph.Static_Power_Law(5000,20000,2.5)\n",
    "ig_powerl_1w = ig.Graph.Static_Power_Law(10000,40000,2.5)\n",
    "ig_powerl_5w = ig.Graph.Static_Power_Law(50000,200000,2.5)\n",
    "\n",
    "\n",
    "#ig_tree = ig.Graph.Tree(50000)"
   ]
  },
  {
   "cell_type": "code",
   "execution_count": 109,
   "id": "0eba338a-ac10-4660-b1d7-3a56cfdb3e5c",
   "metadata": {},
   "outputs": [],
   "source": [
    "ig_gnp_5w = ig.Graph.Erdos_Renyi(50000,m=200000)"
   ]
  },
  {
   "cell_type": "code",
   "execution_count": null,
   "id": "3395ce21-89d3-4b2d-9635-982328b8b674",
   "metadata": {},
   "outputs": [],
   "source": [
    "ig_all_as = ig.Graph.from_networkx(g)"
   ]
  },
  {
   "cell_type": "markdown",
   "id": "4669762f-2977-42fd-a657-60fac9bcfbfc",
   "metadata": {},
   "source": [
    "# save to pickle and txt"
   ]
  },
  {
   "cell_type": "code",
   "execution_count": 110,
   "id": "868087d5-069f-491f-a9a3-0fc5b713b605",
   "metadata": {
    "tags": []
   },
   "outputs": [],
   "source": [
    "import pickle\n",
    "pickledir = \"middleResults/\"\n",
    "ig_cnakj = ig.Graph.from_networkx(largest_cc)\n",
    "experiment_graphs = {'5k': {'as': ig_cnakj, 'gnp':ig_gnp_5k,'pl':ig_powerl_5k},\n",
    "                     '1w': {'as':ig_as, 'gnp':ig_gnp_1w, 'pl': ig_powerl_1w},\n",
    "                     '5w': {'gnp':ig_gnp_5w,'pl':ig_powerl_5w, 'as':ig_all_as}\n",
    "                    }\n",
    "for size in experiment_graphs:\n",
    "    for g in experiment_graphs[size]:\n",
    "        for i in experiment_graphs[size][g].es:\n",
    "            i['weight'] = 1"
   ]
  },
  {
   "cell_type": "code",
   "execution_count": 112,
   "id": "aa67ab66-a223-4420-b15f-eefeb5890b24",
   "metadata": {
    "tags": []
   },
   "outputs": [],
   "source": [
    "# dump as pickle\n",
    "#pickle.dump(largest_cc,open(pickledir+\"cc_cnajk\",\"wb\"))\n",
    "pickle.dump(experiment_graphs,open(pickledir+\"experiment_graphs\",\"wb\"))"
   ]
  },
  {
   "cell_type": "code",
   "execution_count": 113,
   "id": "bd04db27-b271-4f05-8e7a-552326c38bee",
   "metadata": {
    "tags": []
   },
   "outputs": [],
   "source": [
    "# write as txt \n",
    "for size in experiment_graphs:\n",
    "    for graphname in experiment_graphs[size]:\n",
    "        graph = experiment_graphs[size][graphname]\n",
    "        ll = graph.get_adjlist()\n",
    "        with open(pickledir+graphname+'-'+size+'.txt','w') as f:\n",
    "            f.write(\"{} {}\\n\".format(len(graph.vs),len(graph.es)))\n",
    "            for i in range(len(ll)):\n",
    "                for j in ll[i]:\n",
    "                    f.write(\"{} \".format(j+1))     # id starts from 1\n",
    "                f.write(\"\\n\")\n",
    "\n",
    "        if graphname == \"as\" and size == \"5k\":\n",
    "        # write id-name map\n",
    "            nowg = graph\n",
    "            node_list = list(nowg.vs['_nx_name'])\n",
    "            node_map_id2name = {i:node_list[i] for i in range(len(node_list))}\n",
    "            node_map_name2id = {node_list[i]:i for i in range(len(node_list))}\n",
    "            import pickle\n",
    "            from datetime import date\n",
    "            td = str(date.today())\n",
    "            pickle.dump( node_map_id2name , open(pickledir+graphname+size+\"-node_map_id2name-\"+td,\"wb\"))\n",
    "            pickle.dump( node_map_name2id , open(pickledir+graphname+size+\"-node_map_name2id-\"+td,\"wb\"))"
   ]
  },
  {
   "cell_type": "markdown",
   "id": "6df272d9-8da0-4ca6-9b42-dc164e21b2db",
   "metadata": {},
   "source": [
    "# 2500 data"
   ]
  },
  {
   "cell_type": "markdown",
   "id": "1211371c-120d-45ba-9df2-f21346142327",
   "metadata": {},
   "source": [
    "# Fat tree"
   ]
  },
  {
   "cell_type": "code",
   "execution_count": 6,
   "id": "7a7ec688-48aa-463d-8ab4-a04dfd16f02e",
   "metadata": {},
   "outputs": [
    {
     "data": {
      "text/plain": [
       "2500.0"
      ]
     },
     "execution_count": 6,
     "metadata": {},
     "output_type": "execute_result"
    }
   ],
   "source": [
    "k=20\n",
    "(k**3)/4 + (k**2) + (k**2)/4"
   ]
  },
  {
   "cell_type": "code",
   "execution_count": 8,
   "id": "57fe212a-7d99-4289-857d-9b2296f08696",
   "metadata": {
    "tags": []
   },
   "outputs": [],
   "source": [
    "import networkx as nx\n",
    "\n",
    "fatt = {}\n",
    "for k in [20]:\n",
    "\n",
    "    g = ig.Graph()\n",
    "#     k = 24\n",
    "    step = int(k/2)\n",
    "    # k=24, 4176\n",
    "    # -------k=26, 5239\n",
    "    # k=32, 9472\n",
    "    #--------- k=34, 11271\n",
    "    # k=56, 47824\n",
    "    # ---------k=58, 52983\n",
    "\n",
    "    # (k**3)/4+ (k**2)/4 + (k*k)\n",
    "\n",
    "    g.add_vertices(['core'] * int((k**2)/4))\n",
    "    g.add_vertices(['aggr'] * int((k**2)/2))\n",
    "    g.add_vertices(['edge'] * int((k**2)/2))\n",
    "    g.add_vertices(['host'] * int((k**3)/4))\n",
    "\n",
    "    cores = g.vs.select(name='core')\n",
    "    core = [i.index for i in cores]\n",
    "    aggrs = g.vs.select(name='aggr')\n",
    "    aggr = [i.index for i in aggrs]\n",
    "    edges = g.vs.select(name='edge')\n",
    "    edge = [i.index for i in edges]\n",
    "    hosts = g.vs.select(name='host')\n",
    "    host = [i.index for i in hosts]\n",
    "\n",
    "    for i in range(len(edge)):\n",
    "        for j in range(step):\n",
    "            g.add_edges([(edge[i],host[i*step+j])])\n",
    "\n",
    "    for x in range(k):\n",
    "        for i in range(step):\n",
    "            for j in range(step):\n",
    "                g.add_edges([(aggr[x*step+i], edge[x*step+j])])\n",
    "\n",
    "    for x in range(k):\n",
    "        for i in range(step):\n",
    "            for j in range(step):\n",
    "                g.add_edges([(aggr[x*step+i], core[i*step+j])])\n",
    "                \n",
    "    fatt[k] = g\n",
    "\n"
   ]
  },
  {
   "cell_type": "code",
   "execution_count": 11,
   "id": "982a35e8-590a-40e9-b254-96bc01c3bec0",
   "metadata": {},
   "outputs": [
    {
     "data": {
      "text/plain": [
       "6000"
      ]
     },
     "execution_count": 11,
     "metadata": {},
     "output_type": "execute_result"
    }
   ],
   "source": [
    "len(fatt[20].es)"
   ]
  },
  {
   "cell_type": "code",
   "execution_count": 230,
   "id": "8cf89365-1423-4ddf-9b2d-9bb4d504fd21",
   "metadata": {
    "tags": []
   },
   "outputs": [],
   "source": [
    "for j in fatt:\n",
    "    for i in fatt[j].es:\n",
    "        i['weight'] = 1"
   ]
  },
  {
   "cell_type": "code",
   "execution_count": 231,
   "id": "30c1b0bf-3903-48a3-8b1a-7bf6db836dac",
   "metadata": {},
   "outputs": [],
   "source": [
    "pickle.dump(fatt,open(pickledir+\"fatt\",\"wb\"))"
   ]
  },
  {
   "cell_type": "code",
   "execution_count": 233,
   "id": "b8118bfb-6f01-498e-aa04-fc9735cd1b15",
   "metadata": {},
   "outputs": [],
   "source": [
    "for size in fatt:\n",
    "    graph = fatt[size]\n",
    "    ll = graph.get_adjlist()\n",
    "    with open(pickledir+'fattree-k='+str(size)+'.txt','w') as f:\n",
    "        f.write(\"{} {}\\n\".format(len(graph.vs),len(graph.es)))\n",
    "        for i in range(len(ll)):\n",
    "            for j in ll[i]:\n",
    "                f.write(\"{} \".format(j+1))     # id starts from 1\n",
    "            f.write(\"\\n\")\n",
    "\n"
   ]
  },
  {
   "cell_type": "code",
   "execution_count": 12,
   "id": "36ec7431-a03b-46cf-a237-164f680749b1",
   "metadata": {
    "tags": []
   },
   "outputs": [],
   "source": [
    "gnp_2_5k = ig.Graph.Erdos_Renyi(2500,m=10000)\n",
    "powerl_2_5k = ig.Graph.Static_Power_Law(2500,10000,2.5)\n",
    "nx_as_2_5k = nx.random_internet_as_graph(2500,seed=5)\n",
    "as_2_5k = ig.Graph.from_networkx(nx_as_2_5k)\n",
    "ft_2_5k = fatt[20]\n",
    "\n",
    "import pickle\n",
    "pickledir = \"middleResults/\"\n",
    "exp_2500 = {'gnp':gnp_2_5k, 'pl': powerl_2_5k, 'as': as_2_5k, 'ft': ft_2_5k}\n",
    "for g in exp_2500:\n",
    "    for i in exp_2500[g].es:\n",
    "        i['weight'] = 1\n",
    "\n",
    "# dump as pickle\n",
    "#pickle.dump(largest_cc,open(pickledir+\"cc_cnajk\",\"wb\"))\n",
    "pickle.dump(exp_2500,open(pickledir+\"exp_2500\",\"wb\"))\n",
    "\n",
    "# write as txt \n",
    "for graphname in exp_2500:\n",
    "    graph = exp_2500[graphname]\n",
    "    ll = graph.get_adjlist()\n",
    "    with open(pickledir+graphname+'-'+'2.5k.txt','w') as f:\n",
    "        f.write(\"{} {}\\n\".format(len(graph.vs),len(graph.es)))\n",
    "        for i in range(len(ll)):\n",
    "            for j in ll[i]:\n",
    "                f.write(\"{} \".format(j+1))     # id starts from 1\n",
    "            f.write(\"\\n\")\n",
    "\n"
   ]
  },
  {
   "cell_type": "code",
   "execution_count": null,
   "id": "5f45deac-5f25-4ee1-9dab-154208087642",
   "metadata": {},
   "outputs": [],
   "source": []
  },
  {
   "cell_type": "code",
   "execution_count": null,
   "id": "de213c39-449f-4b29-9c04-5cba705d0af4",
   "metadata": {},
   "outputs": [],
   "source": []
  }
 ],
 "metadata": {
  "kernelspec": {
   "display_name": "Python 3",
   "language": "python",
   "name": "python3"
  },
  "language_info": {
   "codemirror_mode": {
    "name": "ipython",
    "version": 3
   },
   "file_extension": ".py",
   "mimetype": "text/x-python",
   "name": "python",
   "nbconvert_exporter": "python",
   "pygments_lexer": "ipython3",
   "version": "3.7.9"
  }
 },
 "nbformat": 4,
 "nbformat_minor": 5
}
